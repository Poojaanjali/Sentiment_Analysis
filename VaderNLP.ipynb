{
  "nbformat": 4,
  "nbformat_minor": 0,
  "metadata": {
    "colab": {
      "name": "VaderNLP.ipynb",
      "provenance": [],
      "collapsed_sections": []
    },
    "kernelspec": {
      "name": "python3",
      "display_name": "Python 3"
    }
  },
  "cells": [
    {
      "cell_type": "code",
      "metadata": {
        "id": "A2iiD5uLl-A2",
        "colab_type": "code",
        "colab": {}
      },
      "source": [
        "# !pip install vaderSentiment\n",
        "import pandas as pd\n",
        "from vaderSentiment.vaderSentiment import SentimentIntensityAnalyzer\n",
        "analyser = SentimentIntensityAnalyzer()\n",
        "\n",
        "with open('outfile.txt') as f:\n",
        "    dataset = f.read().splitlines()\n",
        "\n",
        "def sentiment_analyzer_scores(sentence):\n",
        "  score = analyser.polarity_scores(sentence)\n",
        "  if score['compound'] >= 0.05 : \n",
        "    rating = 1  #Positive\n",
        "  elif score['compound'] <= - 0.05 : \n",
        "    rating = -1 #Negative\n",
        "  else : \n",
        "    rating = 0 #Neutral\n",
        "  return rating\n",
        "\n",
        "file1 = []\n",
        "for sent in dataset :\n",
        "  rate = sentiment_analyzer_scores(sent)\n",
        "  file1.append((sent,rate))\n",
        "\n",
        "\n",
        "with open('reviewfile.txt', 'w') as file_handler:\n",
        "  for item in file1:\n",
        "    file_handler.write('{}\\n'.format(item))\n"
      ],
      "execution_count": 2,
      "outputs": []
    },
    {
      "cell_type": "code",
      "metadata": {
        "id": "MjFZEFXiudMY",
        "colab_type": "code",
        "colab": {}
      },
      "source": [
        "# !pip install vaderSentiment\n",
        "import pandas as pd\n",
        "from vaderSentiment.vaderSentiment import SentimentIntensityAnalyzer\n",
        "analyser = SentimentIntensityAnalyzer()\n",
        "\n",
        "with open('outfilely.txt') as f:\n",
        "    dataset = f.read().splitlines()\n",
        "\n",
        "sentences = [(',').join(dataset[i].rstrip('\\(\\)').split(',')[:-1]) for i in range(0,len(dataset))]\n",
        "\n",
        "\n",
        "def sentiment_analyzer_scores(sentence):\n",
        "  score = analyser.polarity_scores(sentence)\n",
        "  if score['compound'] >= 0.05 : \n",
        "    rating = 1  #Positive\n",
        "  elif score['compound'] <= - 0.05 : \n",
        "    rating = -1 #Negative\n",
        "  else : \n",
        "    rating = 0 #Neutral\n",
        "  return rating\n",
        "\n",
        "file1 = []\n",
        "for sent in sentences :\n",
        "  rate = sentiment_analyzer_scores(sent)\n",
        "  file1.append((sent,rate))\n",
        "\n",
        "\n",
        "with open('reviewfilely.txt', 'w') as file_handler:\n",
        "  for item in file1:\n",
        "    file_handler.write('{}\\n'.format(item))\n",
        "\n",
        "\n",
        "summary = {\"positive\":0,\"neutral\":0,\"negative\":0}\n",
        "for x in dataset: \n",
        "    ss = analyser.polarity_scores(x)\n",
        "    if ss[\"compound\"] == 0.0: \n",
        "        summary[\"neutral\"] +=1\n",
        "    elif ss[\"compound\"] > 0.0:\n",
        "        summary[\"positive\"] +=1\n",
        "    else:\n",
        "        summary[\"negative\"] +=1\n"
      ],
      "execution_count": 3,
      "outputs": []
    },
    {
      "cell_type": "code",
      "metadata": {
        "id": "AX9cXOvfxzmw",
        "colab_type": "code",
        "colab": {
          "base_uri": "https://localhost:8080/",
          "height": 253
        },
        "outputId": "86173015-9c6c-476f-f90b-65ca7adfaf88"
      },
      "source": [
        "import matplotlib.pyplot as plt\n",
        "\n",
        "# Pie chart, where the slices will be ordered and plotted counter-clockwise:\n",
        "labels = 'Positive','negative','neutral'\n",
        "sizes = [182, 23, 2]\n",
        "explode = (0.0, 0.1, 0.1)  # only \"explode\" the 1st slice (i.e. 'Hogs')\n",
        "\n",
        "fig1, ax1 = plt.subplots()\n",
        "ax1.pie(sizes, explode=explode, labels=labels, autopct='%1.1f%%',\n",
        "        shadow=True, startangle=90)\n",
        "ax1.axis('equal')  # Equal aspect ratio ensures that pie is drawn as a circle.\n",
        "\n",
        "plt.show()"
      ],
      "execution_count": null,
      "outputs": [
        {
          "output_type": "display_data",
          "data": {
            "image/png": "[encoded data removed]",
            "text/plain": [
              "<Figure size 432x288 with 1 Axes>"
            ]
          },
          "metadata": {
            "tags": []
          }
        }
      ]
    }
  ]
}